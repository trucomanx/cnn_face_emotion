{
 "cells": [
  {
   "cell_type": "code",
   "execution_count": 1,
   "id": "953b1a0b-d5c1-44b9-bc0f-14e7d0461ebe",
   "metadata": {},
   "outputs": [],
   "source": [
    "import platform, sys, os"
   ]
  },
  {
   "cell_type": "markdown",
   "id": "13b0f452-3278-49c0-9601-c8a443dbc32b",
   "metadata": {},
   "source": [
    "# Variables"
   ]
  },
  {
   "cell_type": "code",
   "execution_count": 2,
   "id": "d83c3fa6-dbbb-4644-a12f-e497f971a446",
   "metadata": {},
   "outputs": [],
   "source": [
    "## Seed for the random variables\n",
    "seed_number=0;\n",
    "\n",
    "## Kfold \n",
    "K=5;                    # Variable K of kfold\n",
    "enable_stratified=True; # True: Stratified kfold False: Enable kfold \n",
    "\n",
    "## Training hyperparameters\n",
    "EPOCAS=50;\n",
    "BATCH_SIZE=32;#32\n",
    "\n",
    "## Model of network\n",
    "model_type  = 'mobilenet_v3';\n",
    "#model_type = 'efficientnet_b3'\n",
    "#model_type = 'inception_v3';\n",
    "#model_type = 'inception_resnet_v2';\n",
    "#model_type = 'resnet_v2_50';\n",
    "#model_type = 'custom1'\n",
    "#model_type = 'custom_inception'\n",
    "#model_type = 'custom_residual1'\n",
    "#model_type = 'custom_dense1'\n",
    "\n",
    "dataset_labels_file = 'training_labels.csv';"
   ]
  },
  {
   "cell_type": "markdown",
   "id": "85c76677-df3b-4ab9-aebd-73ec0245038b",
   "metadata": {},
   "source": [
    "# Bibliotecas externas"
   ]
  },
  {
   "cell_type": "code",
   "execution_count": 3,
   "id": "3410f40c-893b-449d-b024-7781e0d76733",
   "metadata": {},
   "outputs": [],
   "source": [
    "import numpy as np\n",
    "import pandas as pd\n",
    "import tensorflow as tf\n",
    "import datetime"
   ]
  },
  {
   "cell_type": "code",
   "execution_count": 4,
   "id": "60e27cb9-4b9a-4bec-bd30-d9b7a23ec5d4",
   "metadata": {},
   "outputs": [
    {
     "name": "stdout",
     "output_type": "stream",
     "text": [
      "Num GPUs Available:  0\n"
     ]
    }
   ],
   "source": [
    "print(\"Num GPUs Available: \", len(tf.config.list_physical_devices('GPU')))\n"
   ]
  },
  {
   "cell_type": "markdown",
   "id": "755e80a0-2ad3-4a43-9a2d-affaa523530a",
   "metadata": {},
   "source": [
    "# Biblioteca local\n"
   ]
  },
  {
   "cell_type": "code",
   "execution_count": 5,
   "id": "d4ce46fc-8392-4e0b-a820-3ce426fcc7ba",
   "metadata": {},
   "outputs": [],
   "source": [
    "sys.path.append('library');"
   ]
  },
  {
   "cell_type": "markdown",
   "id": "39dbf13b-1dbe-4a62-bcd2-7347a8c219c5",
   "metadata": {},
   "source": [
    "# Endereços"
   ]
  },
  {
   "cell_type": "code",
   "execution_count": 6,
   "id": "2644a21d-4e5a-4475-a452-09ed34b0cedc",
   "metadata": {},
   "outputs": [],
   "source": [
    "## Dataset \n",
    "if platform.system()=='Linux':\n",
    "    dataset_base_dir    = '/mnt/c/Dados/Fernando/DATASET/fer2013/archive/train';\n",
    "else:\n",
    "    dataset_base_dir    = 'C:\\\\Dados\\\\Fernando\\\\DATASET\\\\fer2013\\\\archive\\\\train';\n",
    "\n",
    "\n",
    "## Output\n",
    "if platform.system()=='Linux':\n",
    "    output_base_dir = '/mnt/c/Dados/Fernando/OUTPUTS/cnn_face_emotion/cross-validation';\n",
    "else:\n",
    "    output_base_dir = 'C:\\\\Dados\\\\Fernando\\\\OUTPUTS\\\\cnn_face_emotion\\\\cross-validation';"
   ]
  },
  {
   "cell_type": "markdown",
   "id": "8ab5c325-9eda-4f6b-b4d8-99d2d433d896",
   "metadata": {},
   "source": [
    "# If command line"
   ]
  },
  {
   "cell_type": "code",
   "execution_count": 7,
   "id": "32302454-de63-4f6c-be9f-a72aac1643d0",
   "metadata": {},
   "outputs": [
    {
     "name": "stdout",
     "output_type": "stream",
     "text": [
      "model_type: mobilenet_v3\n"
     ]
    }
   ],
   "source": [
    "for n in range(len(sys.argv)):\n",
    "    if sys.argv[n]=='--model':\n",
    "        model_type=sys.argv[n+1];\n",
    "        \n",
    "print('model_type:',model_type)"
   ]
  },
  {
   "cell_type": "markdown",
   "id": "99d1dee5-778a-4fd9-80de-90620bb33128",
   "metadata": {},
   "source": [
    "# Set seed of random variables\n"
   ]
  },
  {
   "cell_type": "code",
   "execution_count": 8,
   "id": "6ddef12f-6604-4c71-9473-15f328e954dd",
   "metadata": {},
   "outputs": [],
   "source": [
    "np.random.seed(seed_number)\n",
    "tf.keras.utils.set_random_seed(seed_number);"
   ]
  },
  {
   "cell_type": "markdown",
   "id": "86da712f-5937-4965-9623-82c4ee139297",
   "metadata": {},
   "source": [
    "# Setting the cross-validation kfold\n"
   ]
  },
  {
   "cell_type": "code",
   "execution_count": 9,
   "id": "dcab2262-3467-4ee3-86a8-9eda4f5ff726",
   "metadata": {},
   "outputs": [],
   "source": [
    "from sklearn.model_selection import KFold, StratifiedKFold\n",
    "\n",
    "if enable_stratified:\n",
    "    output_dir = os.path.join(output_base_dir,'skfold');\n",
    "    kf = StratifiedKFold(n_splits = K, shuffle = True, random_state = seed_number);\n",
    "else:\n",
    "    output_dir = os.path.join(output_base_dir,'kfold');\n",
    "    kf  = KFold(n_splits = K, shuffle=True, random_state=seed_number); "
   ]
  },
  {
   "cell_type": "markdown",
   "id": "28a59004-739e-4760-bd91-ee3808207e3e",
   "metadata": {},
   "source": [
    "# Loading data of dataset"
   ]
  },
  {
   "cell_type": "code",
   "execution_count": 10,
   "id": "1abe0e9b-ee46-40d8-97c3-12a1efc0cd1a",
   "metadata": {},
   "outputs": [
    {
     "name": "stdout",
     "output_type": "stream",
     "text": [
      "                filename      label\n",
      "0      disgusted/im0.png  disgusted\n",
      "1            sad/im0.png        sad\n",
      "2        fearful/im0.png    fearful\n",
      "3        neutral/im0.png    neutral\n",
      "4          angry/im0.png      angry\n",
      "...                  ...        ...\n",
      "28648   happy/im7210.png      happy\n",
      "28649   happy/im7211.png      happy\n",
      "28650   happy/im7212.png      happy\n",
      "28651   happy/im7213.png      happy\n",
      "28652   happy/im7214.png      happy\n",
      "\n",
      "[28653 rows x 2 columns]\n"
     ]
    }
   ],
   "source": [
    "# Load filenames and labels\n",
    "train_data = pd.read_csv(os.path.join(dataset_base_dir,dataset_labels_file));\n",
    "print(train_data)\n",
    "# Setting labels\n",
    "Y   = train_data[['label']];\n",
    "L=np.shape(Y)[0];"
   ]
  },
  {
   "cell_type": "markdown",
   "id": "67beeb38-1ad1-455d-8a71-5900a1e88163",
   "metadata": {},
   "source": [
    "# Data augmentation configuration"
   ]
  },
  {
   "cell_type": "code",
   "execution_count": 11,
   "id": "c2e3e68f-50e7-4f8c-9cd6-ae3261e8f20f",
   "metadata": {},
   "outputs": [],
   "source": [
    "from tensorflow.keras.preprocessing.image import ImageDataGenerator\n",
    "\n",
    "idg    = ImageDataGenerator(rescale=1./255,\n",
    "                            rotation_range = 10,\n",
    "                            width_shift_range= 0.07,\n",
    "                            height_shift_range= 0.07,\n",
    "                            horizontal_flip=True,\n",
    "                            shear_range=1.25,\n",
    "                            zoom_range = [0.9, 1.1] \n",
    "                            )\n",
    "\n",
    "idg_val= ImageDataGenerator(rescale=1./255 )\n",
    "\n"
   ]
  },
  {
   "cell_type": "markdown",
   "id": "f757c163-8553-4377-a387-a9cd3131ac04",
   "metadata": {},
   "source": [
    "# Auxiliar function"
   ]
  },
  {
   "cell_type": "code",
   "execution_count": 12,
   "id": "f8e6ca47-f504-47c5-99ad-db41692d40d6",
   "metadata": {},
   "outputs": [],
   "source": [
    "def get_model_name(k):\n",
    "    return 'model_'+str(k)+'.h5'"
   ]
  },
  {
   "cell_type": "markdown",
   "id": "ed5189cf-b447-4b0a-b9f3-56f304d6fdde",
   "metadata": {},
   "source": [
    "# Creating output directory"
   ]
  },
  {
   "cell_type": "code",
   "execution_count": 13,
   "id": "6a786de7-43ac-4597-92eb-d9eee66f81d9",
   "metadata": {},
   "outputs": [],
   "source": [
    "\n",
    "try: \n",
    "    os.mkdir(output_dir) \n",
    "except: \n",
    "    pass\n"
   ]
  },
  {
   "cell_type": "markdown",
   "id": "bbf04e51-7a7b-4116-8e1e-04e5f358c5dc",
   "metadata": {},
   "source": [
    "# Cross-validation"
   ]
  },
  {
   "cell_type": "code",
   "execution_count": null,
   "id": "13cd68b8-e1aa-4ef4-af04-e05781f309ff",
   "metadata": {
    "tags": []
   },
   "outputs": [
    {
     "name": "stdout",
     "output_type": "stream",
     "text": [
      "\n",
      "Fold: 1\n",
      "WARNING:tensorflow:Please fix your imports. Module tensorflow.python.training.tracking.data_structures has been moved to tensorflow.python.trackable.data_structures. The old module will be deleted in version 2.11.\n",
      "Loaded layer with mobilenet_v3\n",
      "WARNING:tensorflow:From C:\\Users\\User\\AppData\\Roaming\\Python\\Python39\\site-packages\\tensorflow\\python\\autograph\\pyct\\static_analysis\\liveness.py:83: Analyzer.lamba_check (from tensorflow.python.autograph.pyct.static_analysis.liveness) is deprecated and will be removed after 2023-09-23.\n",
      "Instructions for updating:\n",
      "Lambda fuctions will be no more assumed to be used in the statement where they are used, or at least in the same block. https://github.com/tensorflow/tensorflow/issues/56089\n"
     ]
    },
    {
     "name": "stderr",
     "output_type": "stream",
     "text": [
      "WARNING:tensorflow:From C:\\Users\\User\\AppData\\Roaming\\Python\\Python39\\site-packages\\tensorflow\\python\\autograph\\pyct\\static_analysis\\liveness.py:83: Analyzer.lamba_check (from tensorflow.python.autograph.pyct.static_analysis.liveness) is deprecated and will be removed after 2023-09-23.\n",
      "Instructions for updating:\n",
      "Lambda fuctions will be no more assumed to be used in the statement where they are used, or at least in the same block. https://github.com/tensorflow/tensorflow/issues/56089\n"
     ]
    },
    {
     "name": "stdout",
     "output_type": "stream",
     "text": [
      "Model: \"sequential\"\n",
      "_________________________________________________________________\n",
      " Layer (type)                Output Shape              Param #   \n",
      "=================================================================\n",
      " keras_layer (KerasLayer)    (None, 1024)              1529968   \n",
      "                                                                 \n",
      " dense (Dense)               (None, 32)                32800     \n",
      "                                                                 \n",
      " dense_1 (Dense)             (None, 7)                 231       \n",
      "                                                                 \n",
      "=================================================================\n",
      "Total params: 1,562,999\n",
      "Trainable params: 1,550,887\n",
      "Non-trainable params: 12,112\n",
      "_________________________________________________________________\n",
      "Found 22922 validated image filenames belonging to 7 classes.\n",
      "Found 5731 validated image filenames belonging to 7 classes.\n",
      "Epoch 1/50\n",
      "717/717 [==============================] - ETA: 0s - loss: 1.6340 - categorical_accuracy: 0.5023\n",
      "Epoch 1: val_categorical_accuracy improved from -inf to 0.56919, saving model to C:\\Dados\\Fernando\\OUTPUTS\\cnn_face_emotion\\cross-validation\\skfold\\model_1.h5\n",
      "717/717 [==============================] - 402s 547ms/step - loss: 1.6340 - categorical_accuracy: 0.5023 - val_loss: 1.4841 - val_categorical_accuracy: 0.5692\n",
      "Epoch 2/50\n",
      "717/717 [==============================] - ETA: 0s - loss: 1.4138 - categorical_accuracy: 0.5839\n",
      "Epoch 2: val_categorical_accuracy improved from 0.56919 to 0.59449, saving model to C:\\Dados\\Fernando\\OUTPUTS\\cnn_face_emotion\\cross-validation\\skfold\\model_1.h5\n",
      "717/717 [==============================] - 367s 512ms/step - loss: 1.4138 - categorical_accuracy: 0.5839 - val_loss: 1.4031 - val_categorical_accuracy: 0.5945\n",
      "Epoch 3/50\n",
      "717/717 [==============================] - ETA: 0s - loss: 1.3210 - categorical_accuracy: 0.6096\n",
      "Epoch 3: val_categorical_accuracy improved from 0.59449 to 0.59623, saving model to C:\\Dados\\Fernando\\OUTPUTS\\cnn_face_emotion\\cross-validation\\skfold\\model_1.h5\n",
      "717/717 [==============================] - 365s 509ms/step - loss: 1.3210 - categorical_accuracy: 0.6096 - val_loss: 1.3581 - val_categorical_accuracy: 0.5962\n",
      "Epoch 4/50\n",
      "717/717 [==============================] - ETA: 0s - loss: 1.2570 - categorical_accuracy: 0.6307\n",
      "Epoch 4: val_categorical_accuracy did not improve from 0.59623\n",
      "717/717 [==============================] - 365s 509ms/step - loss: 1.2570 - categorical_accuracy: 0.6307 - val_loss: 1.3564 - val_categorical_accuracy: 0.5889\n",
      "Epoch 5/50\n",
      " 64/717 [=>............................] - ETA: 5:10 - loss: 1.2166 - categorical_accuracy: 0.6476"
     ]
    }
   ],
   "source": [
    "import lib_model as mpp\n",
    "import matplotlib.pyplot as plt\n",
    "\n",
    "VALIDATION_ACCURACY = []\n",
    "VALIDATION_LOSS = []\n",
    "\n",
    "\n",
    "fold_var=1;\n",
    "for train_index, val_index in kf.split(np.zeros(L),Y):\n",
    "    training_data   = train_data.iloc[train_index]\n",
    "    validation_data = train_data.iloc[val_index]\n",
    "\n",
    "    print('\\nFold:',fold_var);\n",
    "    \n",
    "    # CREATE NEW MODEL\n",
    "    model, target_size = mpp.create_model('',model_type=model_type);\n",
    "    model.summary()\n",
    "    \n",
    "    train_data_generator = idg.flow_from_dataframe(training_data, \n",
    "                                                   directory = dataset_base_dir,\n",
    "                                                   target_size=target_size,\n",
    "                                                   x_col = \"filename\", \n",
    "                                                   y_col = \"label\",\n",
    "                                                   batch_size=BATCH_SIZE,\n",
    "                                                   class_mode=\"categorical\",\n",
    "                                                   shuffle = True);\n",
    "    \n",
    "    valid_data_generator  = idg_val.flow_from_dataframe(validation_data, \n",
    "                                                    directory = dataset_base_dir,\n",
    "                                                    target_size=target_size,\n",
    "                                                    x_col = \"filename\", \n",
    "                                                    y_col = \"label\",\n",
    "                                                    batch_size=BATCH_SIZE,\n",
    "                                                    class_mode=\"categorical\",\n",
    "                                                    shuffle = True)\n",
    "    \n",
    "    STEPS_BY_EPOCHS=len(train_data_generator);\n",
    "    \n",
    "\n",
    "    \n",
    "    # COMPILE NEW MODEL\n",
    "    model.compile(loss='categorical_crossentropy',\n",
    "                  optimizer='adam',\n",
    "                  metrics=['categorical_accuracy'])\n",
    "    \n",
    "    # CREATE CALLBACKS\n",
    "    best_model_file=os.path.join(output_dir,get_model_name(fold_var));\n",
    "    checkpoint = tf.keras.callbacks.ModelCheckpoint(filepath=best_model_file, \n",
    "                                                    save_weights_only=True,\n",
    "                                                    monitor='val_categorical_accuracy', \n",
    "                                                    save_best_only=True, \n",
    "                                                    verbose=1);\n",
    "    \n",
    "    log_dir = \"logs/fit/\" + datetime.datetime.now().strftime(\"%Y%m%d-%H%M%S\")\n",
    "    tensorboard_callback = tf.keras.callbacks.TensorBoard(log_dir=log_dir, histogram_freq=1)\n",
    "\n",
    "    \n",
    "    # There can be other callbacks, but just showing one because it involves the model name\n",
    "    # This saves the best model\n",
    "    # FIT THE MODEL\n",
    "    history = model.fit(train_data_generator,\n",
    "                        steps_per_epoch=STEPS_BY_EPOCHS,\n",
    "                        epochs=EPOCAS,\n",
    "                        validation_data=valid_data_generator,\n",
    "                        callbacks=[checkpoint,tensorboard_callback],\n",
    "                        verbose=1\n",
    "                       );\n",
    "    \n",
    "    #PLOT HISTORY\n",
    "    mpp.save_model_history(history,os.path.join(output_dir,\"historical_\"+str(fold_var)+\".csv\"), labels=['categorical_accuracy','loss']);\n",
    "    \n",
    "    # LOAD BEST MODEL to evaluate the performance of the model\n",
    "    model.load_weights(best_model_file);\n",
    "    \n",
    "    results = model.evaluate(valid_data_generator)\n",
    "    results = dict(zip(model.metrics_names,results))\n",
    "    print(results,\"\\n\\n\");\n",
    "    \n",
    "    VALIDATION_ACCURACY.append(results['categorical_accuracy'])\n",
    "    VALIDATION_LOSS.append(results['loss'])\n",
    "    \n",
    "    tf.keras.backend.clear_session()\n",
    "    \n",
    "    fold_var += 1"
   ]
  },
  {
   "cell_type": "code",
   "execution_count": null,
   "id": "84facfa9-b65a-4fc8-85c7-025fd02f1674",
   "metadata": {},
   "outputs": [],
   "source": [
    "fpath=os.path.join(output_dir,\"final_stats.m\");\n",
    "mean_val_acc=mpp.save_model_stat_kfold(VALIDATION_ACCURACY,VALIDATION_LOSS, fpath);\n",
    "\n",
    "mpp.save_model_parameters(model, os.path.join(output_dir,'parameters_stats.m'));\n",
    "\n",
    "os.rename(output_dir,output_dir+str(K)+'_'+model_type+'_acc'+str(int(mean_val_acc*10000)));\n",
    "print(mean_val_acc)"
   ]
  },
  {
   "cell_type": "code",
   "execution_count": null,
   "id": "4f70e376-46ee-40aa-bd19-1ea149d0a3aa",
   "metadata": {},
   "outputs": [],
   "source": []
  },
  {
   "cell_type": "code",
   "execution_count": null,
   "id": "d8fecf1b-cef9-463b-b76d-ff614de2be37",
   "metadata": {},
   "outputs": [],
   "source": []
  }
 ],
 "metadata": {
  "kernelspec": {
   "display_name": "Python 3 (ipykernel)",
   "language": "python",
   "name": "python3"
  },
  "language_info": {
   "codemirror_mode": {
    "name": "ipython",
    "version": 3
   },
   "file_extension": ".py",
   "mimetype": "text/x-python",
   "name": "python",
   "nbconvert_exporter": "python",
   "pygments_lexer": "ipython3",
   "version": "3.9.13"
  }
 },
 "nbformat": 4,
 "nbformat_minor": 5
}
