{
 "cells": [
  {
   "cell_type": "code",
   "execution_count": 1,
   "id": "c3a232a4-4048-4bc8-8611-e73e220894b0",
   "metadata": {},
   "outputs": [],
   "source": [
    "import sys\n",
    "sys.path.append('/home/fernando/Proyectos/PÓS-GRADUAÇÂO/TESIS-DOUTORADO-2/PESQUISA/tools/cnn_patient_people/library');\n",
    "sys.path.append('/home/fernando/Proyectos/PÓS-GRADUAÇÂO/TESIS-DOUTORADO-2/PESQUISA/libraries/WorkingWithFiles/src');"
   ]
  },
  {
   "cell_type": "code",
   "execution_count": null,
   "id": "b49cb967-206b-4a18-b1bb-d1779277e4d2",
   "metadata": {},
   "outputs": [],
   "source": [
    "import PIL\n",
    "import os\n",
    "import PatientPeopleLib as mylib\n",
    "import WorkingWithFiles as rnfunc\n",
    "from tensorflow.keras.preprocessing.image import load_img"
   ]
  },
  {
   "cell_type": "markdown",
   "id": "62cb04b2-e918-456e-989b-e3f8b5675ff8",
   "metadata": {},
   "source": [
    "# Variables globales"
   ]
  },
  {
   "cell_type": "code",
   "execution_count": 2,
   "id": "6e9a7e20-798f-4753-ae8e-b954d8af3942",
   "metadata": {},
   "outputs": [],
   "source": [
    "## Seed for the random variables\n",
    "seed_number=0;\n",
    "\n",
    "## Model of network\n",
    "#model_type = 'efficientnet_b3'\n",
    "model_type = 'mobilenet_v3';\n",
    "#model_type = 'inception_v3';\n",
    "#model_type = 'inception_resnet_v2';\n",
    "#model_type = 'resnet_v2_50';\n",
    "\n",
    "times=10;\n",
    "\n",
    "## Output\n",
    "output_base_dir = '/mnt/boveda/DOCTORADO2/cnn_patient_people/test_custom';"
   ]
  },
  {
   "cell_type": "markdown",
   "id": "a1e40561-74a1-4b75-aecf-14deeadb4d59",
   "metadata": {},
   "source": [
    "# If command line"
   ]
  },
  {
   "cell_type": "code",
   "execution_count": 3,
   "id": "ab4932ca-01af-43d5-a883-37be1bf0dbd2",
   "metadata": {},
   "outputs": [
    {
     "name": "stdout",
     "output_type": "stream",
     "text": [
      "cmd entry: ['/usr/lib/python3/dist-packages/ipykernel_launcher.py', '-f', '/home/fernando/.local/share/jupyter/runtime/kernel-9ff4a45b-e0b2-45f2-b105-7a0ffe931e2a.json']\n",
      "model_type: mobilenet_v3\n"
     ]
    }
   ],
   "source": [
    "#print('cmd entry:', sys.argv)\n",
    "\n",
    "for n in range(len(sys.argv)):\n",
    "    if sys.argv[n]=='--model':\n",
    "        model_type=sys.argv[n+1];\n",
    "    if sys.argv[n]=='--times':\n",
    "        times=int(sys.argv[n+1]);\n",
    "\n",
    "print('model_type:',model_type)\n",
    "print('times:',times)"
   ]
  },
  {
   "cell_type": "markdown",
   "id": "253521b5-8482-410e-ae33-3428e702f2b9",
   "metadata": {},
   "source": [
    "# Classifier"
   ]
  },
  {
   "cell_type": "code",
   "execution_count": 4,
   "id": "a5853861-85ff-49d6-93ed-30ede6066c8e",
   "metadata": {},
   "outputs": [],
   "source": [
    "Clf=mylib.PatientClassifier(model_type);"
   ]
  },
  {
   "cell_type": "markdown",
   "id": "b8b066f7-8739-4ba3-ba2a-14a9e5eae544",
   "metadata": {},
   "source": [
    "# Create directory"
   ]
  },
  {
   "cell_type": "code",
   "execution_count": 5,
   "id": "807c258d-5491-48c0-b01c-554ad7aec29c",
   "metadata": {},
   "outputs": [],
   "source": [
    "#output_dir = os.path.join(output_base_dir,'holdout');\n",
    "output_dir = os.path.join(output_base_dir,'delay_'+model_type);\n",
    "try: \n",
    "    os.mkdir(output_base_dir) \n",
    "except: \n",
    "    pass\n",
    "\n",
    "try: \n",
    "    os.mkdir(output_dir) \n",
    "except: \n",
    "    pass"
   ]
  },
  {
   "cell_type": "markdown",
   "id": "3fd23a55-856a-4bc4-9c2e-3644ab3d0037",
   "metadata": {},
   "source": [
    "# Time"
   ]
  },
  {
   "cell_type": "code",
   "execution_count": 6,
   "id": "d3767f02-2397-465e-8307-ccf12f087832",
   "metadata": {},
   "outputs": [],
   "source": [
    "from pytictoc import TicToc\n",
    "t = TicToc() "
   ]
  },
  {
   "cell_type": "markdown",
   "id": "a06bb382-0857-47c2-aa29-25f5e1c49c2f",
   "metadata": {},
   "source": [
    "# Testing people"
   ]
  },
  {
   "cell_type": "code",
   "execution_count": 7,
   "id": "06bd8881-fbdc-40d6-854b-3580de16eead",
   "metadata": {},
   "outputs": [
    {
     "name": "stdout",
     "output_type": "stream",
     "text": [
      "Acc0: 0.9923076923076923\n",
      "t0: 5.876880223000626\n"
     ]
    }
   ],
   "source": [
    "\n",
    "###############\n",
    "basedir='/mnt/boveda/DATASETs/PATIENT-IMAGES/patient_people/test/people';\n",
    "total_list=rnfunc.get_all_files_in_dir_list([basedir],formats_search=['.png']);\n",
    "\n",
    "N0=0;\n",
    "L0=len(total_list);\n",
    "\n",
    "pil_image=[];\n",
    "for n in range(L0):\n",
    "    pil_image.append(load_img(total_list[n]));\n",
    "\n",
    "t.tic();\n",
    "for m in range(times):\n",
    "    for n in range(L0):\n",
    "        res=Clf.is_pil_patient(pil_image[n]);\n",
    "        N0=N0+(res==0);\n",
    "t0=t.tocvalue();\n",
    "\n",
    "print('Acc0:',N0*1.0/(L0*times));\n",
    "print('t0:',t0);"
   ]
  },
  {
   "cell_type": "markdown",
   "id": "9a9f1c60-bdb8-4e84-af69-91756c5a5635",
   "metadata": {},
   "source": [
    "# Testing patient"
   ]
  },
  {
   "cell_type": "code",
   "execution_count": 8,
   "id": "02e49ea1-c418-4e43-9e4b-6013c0aa9a6c",
   "metadata": {},
   "outputs": [
    {
     "name": "stdout",
     "output_type": "stream",
     "text": [
      "Acc1: 0.916083916083916\n",
      "t1: 6.2609743180000805\n"
     ]
    }
   ],
   "source": [
    "basedir='/mnt/boveda/DATASETs/PATIENT-IMAGES/patient_people/test/patient';\n",
    "total_list=rnfunc.get_all_files_in_dir_list([basedir],formats_search=['.png']);\n",
    "\n",
    "N1=0;\n",
    "L1=len(total_list);\n",
    "\n",
    "pil_image=[];\n",
    "for n in range(L1):\n",
    "    pil_image.append(load_img(total_list[n]));\n",
    "\n",
    "t.tic();\n",
    "for m in range(times):\n",
    "    for n in range(L1):\n",
    "        res=Clf.is_pil_patient(pil_image[n]);\n",
    "        N1=N1+(res==1);\n",
    "t1=t.tocvalue();\n",
    "\n",
    "print('Acc1:',N1*1.0/(L1*times));\n",
    "print('t1:',t1);"
   ]
  },
  {
   "cell_type": "markdown",
   "id": "d17cfb89-593f-4d82-b001-289f924565fc",
   "metadata": {},
   "source": [
    "# Resultados finais"
   ]
  },
  {
   "cell_type": "code",
   "execution_count": 9,
   "id": "257d53cc-1f79-4c90-9614-f5d84e2e89fe",
   "metadata": {},
   "outputs": [
    {
     "name": "stdout",
     "output_type": "stream",
     "text": [
      "Acc: 0.9523809523809523\n",
      "Delay 44.461005644691234 ms\n"
     ]
    }
   ],
   "source": [
    "acc=(N0+N1)*1.0/((L0+L1)*times);\n",
    "delayms=(t1+t0)*1000.0/((L0+L1)*times);\n",
    "\n",
    "print('Acc:',acc);\n",
    "print('Delay',delayms,'ms')"
   ]
  },
  {
   "cell_type": "code",
   "execution_count": 10,
   "id": "2f620ca3-6986-482b-96e9-650c08a757a9",
   "metadata": {},
   "outputs": [],
   "source": [
    "fpath=os.path.join(output_dir,\"times\"+str(times)+\"_acc_delayms.m\")\n",
    "\n",
    "fid = open(fpath, 'w')\n",
    "print('delayms={}'.format(delayms),';', file = fid);\n",
    "print('acc={}'.format(acc),';', file = fid);\n",
    "fid.close()"
   ]
  }
 ],
 "metadata": {
  "kernelspec": {
   "display_name": "Python 3",
   "language": "python",
   "name": "python3"
  },
  "language_info": {
   "codemirror_mode": {
    "name": "ipython",
    "version": 3
   },
   "file_extension": ".py",
   "mimetype": "text/x-python",
   "name": "python",
   "nbconvert_exporter": "python",
   "pygments_lexer": "ipython3",
   "version": "3.8.10"
  }
 },
 "nbformat": 4,
 "nbformat_minor": 5
}
