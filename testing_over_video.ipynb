{
 "cells": [
  {
   "cell_type": "markdown",
   "id": "ed521536-c3dd-4afd-a329-09522b2de9bf",
   "metadata": {},
   "source": [
    "# Install VideoImageTools\n",
    "\n",
    "To install VideoImageTools go to next link https://github.com/trucomanx/VideoImageTools\n",
    "\n",
    "# Install OpenPifPafTools\n",
    "\n",
    "To install OpenPifPafTools go to next link https://github.com/trucomanx/OpenPifPafTools\n"
   ]
  },
  {
   "cell_type": "code",
   "execution_count": 81,
   "id": "72007c97-3c84-4fe4-bc87-d654fc95caaa",
   "metadata": {},
   "outputs": [],
   "source": [
    "import platform, sys, os"
   ]
  },
  {
   "cell_type": "markdown",
   "id": "d17f1671-d398-4639-a577-b835e5714131",
   "metadata": {},
   "source": [
    "# Variables"
   ]
  },
  {
   "cell_type": "code",
   "execution_count": 82,
   "id": "4eefba85-28a6-450d-a3a7-c71d4b23dd4f",
   "metadata": {},
   "outputs": [],
   "source": [
    "## Model of network\n",
    "#model_type = 'efficientnet_b3'\n",
    "model_type = 'mobilenet_v3';\n",
    "#model_type = 'inception_v3';\n",
    "#model_type = 'inception_resnet_v2';\n",
    "#model_type = 'resnet_v2_50';\n",
    "\n",
    "input_mp4_file='drhouse_mini_cut.mp4';#'2023-03-20-172540_mini.mp4';#drhouse_mini_cut.mp4"
   ]
  },
  {
   "cell_type": "markdown",
   "id": "2eee47ba-cf92-4076-ae43-46d0f1f44c8d",
   "metadata": {},
   "source": [
    "# Endereços"
   ]
  },
  {
   "cell_type": "code",
   "execution_count": 83,
   "id": "ee641387-8375-4d9f-978c-2511173f0f67",
   "metadata": {},
   "outputs": [],
   "source": [
    "## input\n",
    "if platform.system()=='Linux':\n",
    "    vin_dir_path ='/mnt/boveda/DATASETs/PATIENT-VIDEOS/dataset-toy';\n",
    "else:\n",
    "    vin_dir_path ='C:\\\\Dados\\\\Fernando\\\\DATASET\\\\PATIENT-VIDEOS\\\\dataset-toy';\n",
    "\n",
    "## output\n",
    "if platform.system()=='Linux':\n",
    "    vout_dir_path='/mnt/boveda/DOCTORADO2/cnn_face_emotion/test_over_video';\n",
    "else:\n",
    "    vout_dir_path='C:\\\\Dados\\\\Fernando\\\\OUTPUTS\\\\cnn_face_emotion\\\\test_over_video';"
   ]
  },
  {
   "cell_type": "markdown",
   "id": "30331932-18cb-42c2-81f5-57edb1a4b5da",
   "metadata": {},
   "source": [
    "# Biblioteca local"
   ]
  },
  {
   "cell_type": "code",
   "execution_count": 84,
   "id": "b632af2f-ad01-445c-86ac-419456eba3e9",
   "metadata": {},
   "outputs": [],
   "source": [
    "sys.path.append('library');"
   ]
  },
  {
   "cell_type": "code",
   "execution_count": 85,
   "id": "f4259e7e-375f-4f8a-bb1f-2dabd5d876c9",
   "metadata": {},
   "outputs": [],
   "source": [
    "import Classifier as mylib"
   ]
  },
  {
   "cell_type": "markdown",
   "id": "28ec9de7-5010-475b-bed5-d18591b0964d",
   "metadata": {},
   "source": [
    "# Bibliotecas externas"
   ]
  },
  {
   "cell_type": "code",
   "execution_count": 86,
   "id": "40a25d22-37d7-493d-858b-402c00224ca0",
   "metadata": {},
   "outputs": [],
   "source": [
    "import VideoImageTools as vit\n",
    "import OpenPifPafTools.OpenPifPafAnnotations as opp\n",
    "import OpenPifPafTools.OpenPifPafGetData as oppgd\n",
    "\n",
    "\n",
    "import cv2\n",
    "import openpifpaf\n",
    "from PIL import Image\n",
    "\n"
   ]
  },
  {
   "cell_type": "markdown",
   "id": "3bfacf3b-046e-4426-b93f-fc4c335f1bf1",
   "metadata": {},
   "source": [
    "# If command line"
   ]
  },
  {
   "cell_type": "code",
   "execution_count": 87,
   "id": "52a8d6f8-1547-4b3c-bb99-9975c49dd53b",
   "metadata": {},
   "outputs": [
    {
     "name": "stdout",
     "output_type": "stream",
     "text": [
      "model_type: mobilenet_v3\n"
     ]
    }
   ],
   "source": [
    "for n in range(len(sys.argv)):\n",
    "    if sys.argv[n]=='--model':\n",
    "        model_type=sys.argv[n+1];\n",
    "\n",
    "print('model_type:',model_type)"
   ]
  },
  {
   "cell_type": "code",
   "execution_count": 88,
   "id": "5bb19658-0095-4134-82bc-97b0ded311ef",
   "metadata": {},
   "outputs": [],
   "source": [
    "vin_path =os.path.join(vin_dir_path ,input_mp4_file);\n",
    "vout_path=os.path.join(vout_dir_path,os.path.splitext(os.path.basename(input_mp4_file))[0]+'_'+model_type+'.mp4');\n"
   ]
  },
  {
   "cell_type": "markdown",
   "id": "7adceab4-e767-415d-9a8b-9bd2373ba120",
   "metadata": {},
   "source": [
    "# Creating output directory"
   ]
  },
  {
   "cell_type": "code",
   "execution_count": 89,
   "id": "16c417d4-6024-40d1-b2bf-cc195c6695f8",
   "metadata": {},
   "outputs": [
    {
     "name": "stdout",
     "output_type": "stream",
     "text": [
      "Pass creating output_dir:: /mnt/boveda/DOCTORADO2/cnn_face_emotion/test_over_video\n"
     ]
    }
   ],
   "source": [
    "try:\n",
    "    os.makedirs(vout_dir_path) \n",
    "    print('      Created output_dir::',vout_dir_path)\n",
    "except: \n",
    "    print('Pass creating output_dir::',vout_dir_path)\n",
    "    pass\n"
   ]
  },
  {
   "cell_type": "markdown",
   "id": "b6d720a7-2636-4700-a973-d3487dea314c",
   "metadata": {},
   "source": [
    "# Auxiliar functions"
   ]
  },
  {
   "cell_type": "code",
   "execution_count": 90,
   "id": "91fb32cf-a802-472d-a1d7-5f97c12ab6d0",
   "metadata": {},
   "outputs": [],
   "source": [
    "\n",
    "\n",
    "def my_func(PredT,frame):\n",
    "    Clf=PredT[0];\n",
    "    predictor=PredT[1];\n",
    "\n",
    "    categories=['angry','disgusted','fearful','happy','neutral','sad','surprised'];\n",
    "    \n",
    "    img_tmp = cv2.cvtColor(frame, cv2.COLOR_BGR2RGB);\n",
    "    pil_im = Image.fromarray(img_tmp);\n",
    "    \n",
    "    height, width, channels = frame.shape\n",
    "    \n",
    "    annotation, gt_anns, image_meta = predictor.pil_image(pil_im);\n",
    "    \n",
    "    for annot in annotation: \n",
    "        (xi,yi,xo,yo)=oppgd.get_face_bounding_rectangle(annot.data,factor=1.0);\n",
    "        xi=int(xi);        yi=int(yi);\n",
    "        xo=int(xo);        yo=int(yo);\n",
    "        \n",
    "        if xo<0:\n",
    "            xo=0;\n",
    "        if xo>=width:\n",
    "            xo=width-1;\n",
    "        if yo<0:\n",
    "            yo=0;\n",
    "        if yo>=height:\n",
    "            yo=height-1;\n",
    "        \n",
    "        if xi!=xo and yi!=yo:\n",
    "            color=(0,255,0);\n",
    "            thickness=2;\n",
    "\n",
    "            pil_crop=pil_im.crop((xi,yi,xo,yo));\n",
    "\n",
    "            res=Clf.is_pil_patient(pil_crop);\n",
    "\n",
    "            texto=categories[res];\n",
    "\n",
    "            frame = cv2.putText(  frame,\n",
    "                                  texto,\n",
    "                                  org = (int(xi), int((yi+yo)/2)),\n",
    "                                  fontFace = cv2.FONT_HERSHEY_DUPLEX,\n",
    "                                  fontScale = 2.0,\n",
    "                                  color = (255, 0, 0),\n",
    "                                  thickness = thickness\n",
    "                                )\n",
    "\n",
    "            cv2.rectangle(frame,(xi,yi),(xo,yo),color,thickness);\n",
    "    return frame;\n",
    "\n",
    "\n"
   ]
  },
  {
   "cell_type": "code",
   "execution_count": 91,
   "id": "e4988749-3fbb-499e-8e56-e85486acdc82",
   "metadata": {},
   "outputs": [
    {
     "name": "stdout",
     "output_type": "stream",
     "text": [
      "Loading model: mobilenet_v3\n",
      "Model mobilenet_v3 loaded.\n",
      "Loaded layer with mobilenet_v3\n"
     ]
    },
    {
     "name": "stderr",
     "output_type": "stream",
     "text": [
      "Working: |           [ time left: 00:00 ]      "
     ]
    },
    {
     "name": "stdout",
     "output_type": "stream",
     "text": [
      "working end\n"
     ]
    },
    {
     "name": "stderr",
     "output_type": "stream",
     "text": [
      "\n"
     ]
    }
   ],
   "source": [
    "    \n",
    "Clf=mylib.FaceEmotionClassifier(model_type);\n",
    "predictor = openpifpaf.Predictor(checkpoint='shufflenetv2k16')#'shufflenetv2k16-wholebody'\n",
    "vit.apply_func_predictor_over_video_outmp4(my_func,(Clf,predictor),vin_path,vout_path)\n",
    "\n",
    "print('working end')"
   ]
  },
  {
   "cell_type": "code",
   "execution_count": null,
   "id": "cc39aa4e-038b-4d30-94c5-c543d2d6eacf",
   "metadata": {},
   "outputs": [],
   "source": []
  }
 ],
 "metadata": {
  "kernelspec": {
   "display_name": "Python 3",
   "language": "python",
   "name": "python3"
  },
  "language_info": {
   "codemirror_mode": {
    "name": "ipython",
    "version": 3
   },
   "file_extension": ".py",
   "mimetype": "text/x-python",
   "name": "python",
   "nbconvert_exporter": "python",
   "pygments_lexer": "ipython3",
   "version": "3.8.10"
  },
  "vscode": {
   "interpreter": {
    "hash": "3b7e9cb8e453d6cda0fe8c8dd13f891a1f09162f0e7c66ffeae7751a7aecf00d"
   }
  }
 },
 "nbformat": 4,
 "nbformat_minor": 5
}
