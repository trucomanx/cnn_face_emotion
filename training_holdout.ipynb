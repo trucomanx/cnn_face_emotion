{
 "cells": [
  {
   "cell_type": "code",
   "execution_count": 1,
   "id": "3410f40c-893b-449d-b024-7781e0d76733",
   "metadata": {},
   "outputs": [],
   "source": [
    "import numpy as np\n",
    "import pandas as pd\n",
    "import os\n",
    "import tensorflow as tf"
   ]
  },
  {
   "cell_type": "code",
   "execution_count": 2,
   "id": "d4ce46fc-8392-4e0b-a820-3ce426fcc7ba",
   "metadata": {},
   "outputs": [],
   "source": [
    "import sys\n",
    "sys.path.append('library');"
   ]
  },
  {
   "cell_type": "markdown",
   "id": "13b0f452-3278-49c0-9601-c8a443dbc32b",
   "metadata": {},
   "source": [
    "# Variable globales"
   ]
  },
  {
   "cell_type": "code",
   "execution_count": 3,
   "id": "d83c3fa6-dbbb-4644-a12f-e497f971a446",
   "metadata": {},
   "outputs": [],
   "source": [
    "## Seed for the random variables\n",
    "seed_number=0;\n",
    "\n",
    "## Dataset \n",
    "dataset_base_dir     = '/mnt/boveda/DATASETs/PATIENT-IMAGES/patient_people/train';\n",
    "dataset_labels_file  = 'training_labels.csv';\n",
    "\n",
    "dataset_base_test_dir= '/mnt/boveda/DATASETs/PATIENT-IMAGES/patient_people/test';\n",
    "\n",
    "\n",
    "## Training hyperparameters\n",
    "EPOCAS=50;\n",
    "BATCH_SIZE=32;\n",
    "\n",
    "## Model of network\n",
    "model_type = 'efficientnet_b3'\n",
    "#model_type = 'mobilenet_v3';\n",
    "#model_type = 'inception_v3';\n",
    "#model_type = 'inception_resnet_v2';\n",
    "#model_type = 'resnet_v2_50';\n",
    "\n",
    "## Output\n",
    "output_base_dir = '/mnt/boveda/DOCTORADO2/cnn_patient_people/train';\n",
    "\n"
   ]
  },
  {
   "cell_type": "markdown",
   "id": "99d1dee5-778a-4fd9-80de-90620bb33128",
   "metadata": {},
   "source": [
    "# Set seed of random variables\n"
   ]
  },
  {
   "cell_type": "code",
   "execution_count": 4,
   "id": "6ddef12f-6604-4c71-9473-15f328e954dd",
   "metadata": {},
   "outputs": [],
   "source": [
    "np.random.seed(seed_number)\n",
    "tf.keras.utils.set_random_seed(seed_number);"
   ]
  },
  {
   "cell_type": "markdown",
   "id": "28a59004-739e-4760-bd91-ee3808207e3e",
   "metadata": {},
   "source": [
    "# Loading data of dataset"
   ]
  },
  {
   "cell_type": "code",
   "execution_count": 5,
   "id": "1abe0e9b-ee46-40d8-97c3-12a1efc0cd1a",
   "metadata": {},
   "outputs": [
    {
     "name": "stdout",
     "output_type": "stream",
     "text": [
      "                    filename    label\n",
      "0       people/filename1.png   people\n",
      "1      patient/filename1.png  patient\n",
      "2       people/filename2.png   people\n",
      "3      patient/filename2.png  patient\n",
      "4       people/filename3.png   people\n",
      "..                       ...      ...\n",
      "626  patient/filename456.png  patient\n",
      "627  patient/filename457.png  patient\n",
      "628  patient/filename458.png  patient\n",
      "629  patient/filename459.png  patient\n",
      "630  patient/filename460.png  patient\n",
      "\n",
      "[631 rows x 2 columns]\n"
     ]
    }
   ],
   "source": [
    "# Load filenames and labels\n",
    "train_data = pd.read_csv(os.path.join(dataset_base_dir,dataset_labels_file));\n",
    "print(train_data)\n",
    "# Setting labels\n",
    "Y = train_data[['label']];\n",
    "L=np.shape(Y)[0];\n"
   ]
  },
  {
   "cell_type": "markdown",
   "id": "86da712f-5937-4965-9623-82c4ee139297",
   "metadata": {},
   "source": [
    "# Setting the cross-validation split\n"
   ]
  },
  {
   "cell_type": "code",
   "execution_count": 6,
   "id": "dcab2262-3467-4ee3-86a8-9eda4f5ff726",
   "metadata": {},
   "outputs": [],
   "source": [
    "from sklearn.model_selection import train_test_split\n",
    "    \n",
    "\n",
    "\n",
    "\n",
    "training_data, validation_data = train_test_split(train_data, test_size=0.2,shuffle=True, stratify=Y)\n",
    "\n"
   ]
  },
  {
   "cell_type": "markdown",
   "id": "67beeb38-1ad1-455d-8a71-5900a1e88163",
   "metadata": {},
   "source": [
    "# Data augmentation configuration"
   ]
  },
  {
   "cell_type": "code",
   "execution_count": 7,
   "id": "c2e3e68f-50e7-4f8c-9cd6-ae3261e8f20f",
   "metadata": {},
   "outputs": [],
   "source": [
    "from tensorflow.keras.preprocessing.image import ImageDataGenerator\n",
    "\n",
    "idg    = ImageDataGenerator(rescale=1./255,\n",
    "                            rotation_range = 10,\n",
    "                            width_shift_range= 0.07,\n",
    "                            height_shift_range= 0.07,\n",
    "                            horizontal_flip=True,\n",
    "                            shear_range=1.25,\n",
    "                            zoom_range = [0.75, 1.25] \n",
    "                            )\n",
    "\n",
    "idg_val= ImageDataGenerator(rescale=1./255 )\n",
    "\n",
    "idg_test= ImageDataGenerator(rescale=1./255 )\n"
   ]
  },
  {
   "cell_type": "markdown",
   "id": "ed5189cf-b447-4b0a-b9f3-56f304d6fdde",
   "metadata": {},
   "source": [
    "# Creating output directory"
   ]
  },
  {
   "cell_type": "code",
   "execution_count": 8,
   "id": "6a786de7-43ac-4597-92eb-d9eee66f81d9",
   "metadata": {},
   "outputs": [],
   "source": [
    "#output_dir = os.path.join(output_base_dir,'holdout');\n",
    "output_dir = os.path.join(output_base_dir,'holdout_'+model_type);\n",
    "try: \n",
    "    os.mkdir(output_base_dir) \n",
    "except: \n",
    "    pass\n",
    "\n",
    "try: \n",
    "    os.mkdir(output_dir) \n",
    "except: \n",
    "    pass\n"
   ]
  },
  {
   "cell_type": "markdown",
   "id": "bbf04e51-7a7b-4116-8e1e-04e5f358c5dc",
   "metadata": {},
   "source": [
    "# Create new model"
   ]
  },
  {
   "cell_type": "code",
   "execution_count": 9,
   "id": "5d629ba9-d621-4905-a88f-a0730d6c1802",
   "metadata": {},
   "outputs": [
    {
     "name": "stdout",
     "output_type": "stream",
     "text": [
      "Model: \"sequential\"\n",
      "_________________________________________________________________\n",
      " Layer (type)                Output Shape              Param #   \n",
      "=================================================================\n",
      " keras_layer (KerasLayer)    (None, 1536)              10783528  \n",
      "                                                                 \n",
      " dense (Dense)               (None, 2)                 3074      \n",
      "                                                                 \n",
      "=================================================================\n",
      "Total params: 10,786,602\n",
      "Trainable params: 3,074\n",
      "Non-trainable params: 10,783,528\n",
      "_________________________________________________________________\n"
     ]
    }
   ],
   "source": [
    "import lib_model as mpp\n",
    "\n",
    "model, target_size = mpp.create_model('',model_type=model_type);\n",
    "model.summary()\n",
    "\n",
    "mpp.save_model_parameters(model, os.path.join(output_dir,'parameters_stats.m'));\n"
   ]
  },
  {
   "cell_type": "markdown",
   "id": "ee59917a-4069-439f-9108-e5b139498b01",
   "metadata": {},
   "source": [
    "# Defining directories"
   ]
  },
  {
   "cell_type": "code",
   "execution_count": 10,
   "id": "ac8f2152-96da-447d-b437-84f11e12937f",
   "metadata": {},
   "outputs": [
    {
     "name": "stdout",
     "output_type": "stream",
     "text": [
      "Found 504 validated image filenames belonging to 2 classes.\n",
      "Found 127 validated image filenames belonging to 2 classes.\n",
      "Found 273 images belonging to 2 classes.\n"
     ]
    }
   ],
   "source": [
    "\n",
    "train_data_generator = idg.flow_from_dataframe(training_data, \n",
    "                                               directory = dataset_base_dir,\n",
    "                                               target_size=target_size,\n",
    "                                               x_col = \"filename\", \n",
    "                                               y_col = \"label\",\n",
    "                                               batch_size=BATCH_SIZE,\n",
    "                                               class_mode=\"categorical\",\n",
    "                                               shuffle = True);\n",
    "\n",
    "valid_data_generator  = idg_val.flow_from_dataframe(validation_data, \n",
    "                                                    directory = dataset_base_dir,\n",
    "                                                    target_size=target_size,\n",
    "                                                    x_col = \"filename\", \n",
    "                                                    y_col = \"label\",\n",
    "                                                    batch_size=BATCH_SIZE,\n",
    "                                                    class_mode=\"categorical\",\n",
    "                                                    shuffle = True);\n",
    "\n",
    "test_data_generator  = idg_test.flow_from_directory(dataset_base_test_dir, \n",
    "                                                    target_size=target_size,\n",
    "                                                    batch_size=BATCH_SIZE,\n",
    "                                                    shuffle=True\n",
    "                                                    );"
   ]
  },
  {
   "cell_type": "markdown",
   "id": "fc1be572-b9c7-422c-9518-53735f9425c7",
   "metadata": {},
   "source": [
    "# Train and validation\n"
   ]
  },
  {
   "cell_type": "code",
   "execution_count": 11,
   "id": "13cd68b8-e1aa-4ef4-af04-e05781f309ff",
   "metadata": {},
   "outputs": [
    {
     "name": "stdout",
     "output_type": "stream",
     "text": [
      "Epoch 1/50\n",
      "16/16 [==============================] - ETA: 0s - loss: 0.5709 - accuracy: 0.6984\n",
      "Epoch 1: val_accuracy improved from -inf to 0.85827, saving model to /mnt/boveda/DOCTORADO2/cnn_patient_people/train/holdout_efficientnet_b3/model.h5\n",
      "16/16 [==============================] - 93s 5s/step - loss: 0.5709 - accuracy: 0.6984 - val_loss: 0.3638 - val_accuracy: 0.8583\n",
      "Epoch 2/50\n",
      "16/16 [==============================] - ETA: 0s - loss: 0.3177 - accuracy: 0.8929\n",
      "Epoch 2: val_accuracy improved from 0.85827 to 0.88976, saving model to /mnt/boveda/DOCTORADO2/cnn_patient_people/train/holdout_efficientnet_b3/model.h5\n",
      "16/16 [==============================] - 77s 5s/step - loss: 0.3177 - accuracy: 0.8929 - val_loss: 0.2642 - val_accuracy: 0.8898\n",
      "Epoch 3/50\n",
      "16/16 [==============================] - ETA: 0s - loss: 0.2621 - accuracy: 0.9008\n",
      "Epoch 3: val_accuracy improved from 0.88976 to 0.89764, saving model to /mnt/boveda/DOCTORADO2/cnn_patient_people/train/holdout_efficientnet_b3/model.h5\n",
      "16/16 [==============================] - 81s 5s/step - loss: 0.2621 - accuracy: 0.9008 - val_loss: 0.2326 - val_accuracy: 0.8976\n",
      "Epoch 4/50\n",
      "16/16 [==============================] - ETA: 0s - loss: 0.2297 - accuracy: 0.9087\n",
      "Epoch 4: val_accuracy improved from 0.89764 to 0.90551, saving model to /mnt/boveda/DOCTORADO2/cnn_patient_people/train/holdout_efficientnet_b3/model.h5\n",
      "16/16 [==============================] - 88s 5s/step - loss: 0.2297 - accuracy: 0.9087 - val_loss: 0.2207 - val_accuracy: 0.9055\n",
      "Epoch 5/50\n",
      "16/16 [==============================] - ETA: 0s - loss: 0.2070 - accuracy: 0.9286\n",
      "Epoch 5: val_accuracy improved from 0.90551 to 0.92126, saving model to /mnt/boveda/DOCTORADO2/cnn_patient_people/train/holdout_efficientnet_b3/model.h5\n",
      "16/16 [==============================] - 86s 5s/step - loss: 0.2070 - accuracy: 0.9286 - val_loss: 0.2020 - val_accuracy: 0.9213\n",
      "Epoch 6/50\n",
      "16/16 [==============================] - ETA: 0s - loss: 0.1807 - accuracy: 0.9425\n",
      "Epoch 6: val_accuracy did not improve from 0.92126\n",
      "16/16 [==============================] - 81s 5s/step - loss: 0.1807 - accuracy: 0.9425 - val_loss: 0.2014 - val_accuracy: 0.9213\n",
      "Epoch 7/50\n",
      "16/16 [==============================] - ETA: 0s - loss: 0.1750 - accuracy: 0.9504\n",
      "Epoch 7: val_accuracy did not improve from 0.92126\n",
      "16/16 [==============================] - 79s 5s/step - loss: 0.1750 - accuracy: 0.9504 - val_loss: 0.1779 - val_accuracy: 0.9134\n",
      "Epoch 8/50\n",
      "16/16 [==============================] - ETA: 0s - loss: 0.1576 - accuracy: 0.9345\n",
      "Epoch 8: val_accuracy improved from 0.92126 to 0.92913, saving model to /mnt/boveda/DOCTORADO2/cnn_patient_people/train/holdout_efficientnet_b3/model.h5\n",
      "16/16 [==============================] - 80s 5s/step - loss: 0.1576 - accuracy: 0.9345 - val_loss: 0.1982 - val_accuracy: 0.9291\n",
      "Epoch 9/50\n",
      "16/16 [==============================] - ETA: 0s - loss: 0.1433 - accuracy: 0.9464\n",
      "Epoch 9: val_accuracy did not improve from 0.92913\n",
      "16/16 [==============================] - 79s 5s/step - loss: 0.1433 - accuracy: 0.9464 - val_loss: 0.1729 - val_accuracy: 0.9213\n",
      "Epoch 10/50\n",
      "16/16 [==============================] - ETA: 0s - loss: 0.1395 - accuracy: 0.9603\n",
      "Epoch 10: val_accuracy did not improve from 0.92913\n",
      "16/16 [==============================] - 79s 5s/step - loss: 0.1395 - accuracy: 0.9603 - val_loss: 0.1799 - val_accuracy: 0.9213\n",
      "Epoch 11/50\n",
      "16/16 [==============================] - ETA: 0s - loss: 0.1391 - accuracy: 0.9544\n",
      "Epoch 11: val_accuracy did not improve from 0.92913\n",
      "16/16 [==============================] - 80s 5s/step - loss: 0.1391 - accuracy: 0.9544 - val_loss: 0.1758 - val_accuracy: 0.9213\n",
      "Epoch 12/50\n",
      "16/16 [==============================] - ETA: 0s - loss: 0.1222 - accuracy: 0.9603\n",
      "Epoch 12: val_accuracy did not improve from 0.92913\n",
      "16/16 [==============================] - 78s 5s/step - loss: 0.1222 - accuracy: 0.9603 - val_loss: 0.1675 - val_accuracy: 0.9134\n",
      "Epoch 13/50\n",
      "16/16 [==============================] - ETA: 0s - loss: 0.1205 - accuracy: 0.9603\n",
      "Epoch 13: val_accuracy did not improve from 0.92913\n",
      "16/16 [==============================] - 81s 5s/step - loss: 0.1205 - accuracy: 0.9603 - val_loss: 0.1682 - val_accuracy: 0.9134\n",
      "Epoch 14/50\n",
      "16/16 [==============================] - ETA: 0s - loss: 0.1187 - accuracy: 0.9623\n",
      "Epoch 14: val_accuracy did not improve from 0.92913\n",
      "16/16 [==============================] - 80s 5s/step - loss: 0.1187 - accuracy: 0.9623 - val_loss: 0.1697 - val_accuracy: 0.9134\n",
      "Epoch 15/50\n",
      "16/16 [==============================] - ETA: 0s - loss: 0.1031 - accuracy: 0.9702\n",
      "Epoch 15: val_accuracy did not improve from 0.92913\n",
      "16/16 [==============================] - 81s 5s/step - loss: 0.1031 - accuracy: 0.9702 - val_loss: 0.1703 - val_accuracy: 0.9134\n",
      "Epoch 16/50\n",
      "16/16 [==============================] - ETA: 0s - loss: 0.1035 - accuracy: 0.9722\n",
      "Epoch 16: val_accuracy did not improve from 0.92913\n",
      "16/16 [==============================] - 82s 5s/step - loss: 0.1035 - accuracy: 0.9722 - val_loss: 0.1644 - val_accuracy: 0.9055\n",
      "Epoch 17/50\n",
      "16/16 [==============================] - ETA: 0s - loss: 0.1029 - accuracy: 0.9722\n",
      "Epoch 17: val_accuracy did not improve from 0.92913\n",
      "16/16 [==============================] - 86s 5s/step - loss: 0.1029 - accuracy: 0.9722 - val_loss: 0.1707 - val_accuracy: 0.9134\n",
      "Epoch 18/50\n",
      "16/16 [==============================] - ETA: 0s - loss: 0.0973 - accuracy: 0.9683\n",
      "Epoch 18: val_accuracy did not improve from 0.92913\n",
      "16/16 [==============================] - 77s 5s/step - loss: 0.0973 - accuracy: 0.9683 - val_loss: 0.1673 - val_accuracy: 0.9055\n",
      "Epoch 19/50\n",
      "16/16 [==============================] - ETA: 0s - loss: 0.1015 - accuracy: 0.9702\n",
      "Epoch 19: val_accuracy did not improve from 0.92913\n",
      "16/16 [==============================] - 80s 5s/step - loss: 0.1015 - accuracy: 0.9702 - val_loss: 0.1666 - val_accuracy: 0.9134\n",
      "Epoch 20/50\n",
      "16/16 [==============================] - ETA: 0s - loss: 0.0892 - accuracy: 0.9722\n",
      "Epoch 20: val_accuracy did not improve from 0.92913\n",
      "16/16 [==============================] - 80s 5s/step - loss: 0.0892 - accuracy: 0.9722 - val_loss: 0.1641 - val_accuracy: 0.8976\n",
      "Epoch 21/50\n",
      "16/16 [==============================] - ETA: 0s - loss: 0.0856 - accuracy: 0.9742\n",
      "Epoch 21: val_accuracy did not improve from 0.92913\n",
      "16/16 [==============================] - 81s 5s/step - loss: 0.0856 - accuracy: 0.9742 - val_loss: 0.1766 - val_accuracy: 0.9213\n",
      "Epoch 22/50\n",
      "16/16 [==============================] - ETA: 0s - loss: 0.0817 - accuracy: 0.9762\n",
      "Epoch 22: val_accuracy did not improve from 0.92913\n",
      "16/16 [==============================] - 79s 5s/step - loss: 0.0817 - accuracy: 0.9762 - val_loss: 0.1670 - val_accuracy: 0.9134\n",
      "Epoch 23/50\n",
      "16/16 [==============================] - ETA: 0s - loss: 0.0823 - accuracy: 0.9782\n",
      "Epoch 23: val_accuracy did not improve from 0.92913\n",
      "16/16 [==============================] - 77s 5s/step - loss: 0.0823 - accuracy: 0.9782 - val_loss: 0.1663 - val_accuracy: 0.9055\n",
      "Epoch 24/50\n",
      "16/16 [==============================] - ETA: 0s - loss: 0.0861 - accuracy: 0.9722\n",
      "Epoch 24: val_accuracy did not improve from 0.92913\n",
      "16/16 [==============================] - 78s 5s/step - loss: 0.0861 - accuracy: 0.9722 - val_loss: 0.1640 - val_accuracy: 0.8976\n",
      "Epoch 25/50\n",
      "16/16 [==============================] - ETA: 0s - loss: 0.0704 - accuracy: 0.9841\n",
      "Epoch 25: val_accuracy did not improve from 0.92913\n",
      "16/16 [==============================] - 78s 5s/step - loss: 0.0704 - accuracy: 0.9841 - val_loss: 0.1685 - val_accuracy: 0.9055\n",
      "Epoch 26/50\n",
      "16/16 [==============================] - ETA: 0s - loss: 0.0704 - accuracy: 0.9782\n",
      "Epoch 26: val_accuracy did not improve from 0.92913\n",
      "16/16 [==============================] - 76s 5s/step - loss: 0.0704 - accuracy: 0.9782 - val_loss: 0.1677 - val_accuracy: 0.9055\n",
      "Epoch 27/50\n",
      "16/16 [==============================] - ETA: 0s - loss: 0.0741 - accuracy: 0.9782\n",
      "Epoch 27: val_accuracy did not improve from 0.92913\n",
      "16/16 [==============================] - 76s 5s/step - loss: 0.0741 - accuracy: 0.9782 - val_loss: 0.1675 - val_accuracy: 0.8976\n",
      "Epoch 28/50\n",
      "16/16 [==============================] - ETA: 0s - loss: 0.0721 - accuracy: 0.9782\n",
      "Epoch 28: val_accuracy did not improve from 0.92913\n",
      "16/16 [==============================] - 76s 5s/step - loss: 0.0721 - accuracy: 0.9782 - val_loss: 0.1699 - val_accuracy: 0.9055\n",
      "Epoch 29/50\n",
      "16/16 [==============================] - ETA: 0s - loss: 0.0710 - accuracy: 0.9802\n",
      "Epoch 29: val_accuracy did not improve from 0.92913\n",
      "16/16 [==============================] - 79s 5s/step - loss: 0.0710 - accuracy: 0.9802 - val_loss: 0.1741 - val_accuracy: 0.9055\n",
      "Epoch 30/50\n",
      "16/16 [==============================] - ETA: 0s - loss: 0.0649 - accuracy: 0.9861\n",
      "Epoch 30: val_accuracy did not improve from 0.92913\n",
      "16/16 [==============================] - 79s 5s/step - loss: 0.0649 - accuracy: 0.9861 - val_loss: 0.1733 - val_accuracy: 0.9055\n",
      "Epoch 31/50\n",
      "16/16 [==============================] - ETA: 0s - loss: 0.0601 - accuracy: 0.9901\n",
      "Epoch 31: val_accuracy did not improve from 0.92913\n",
      "16/16 [==============================] - 83s 5s/step - loss: 0.0601 - accuracy: 0.9901 - val_loss: 0.1746 - val_accuracy: 0.9055\n",
      "Epoch 32/50\n",
      "16/16 [==============================] - ETA: 0s - loss: 0.0687 - accuracy: 0.9841\n",
      "Epoch 32: val_accuracy did not improve from 0.92913\n",
      "16/16 [==============================] - 80s 5s/step - loss: 0.0687 - accuracy: 0.9841 - val_loss: 0.1700 - val_accuracy: 0.8976\n",
      "Epoch 33/50\n",
      "16/16 [==============================] - ETA: 0s - loss: 0.0601 - accuracy: 0.9841\n",
      "Epoch 33: val_accuracy did not improve from 0.92913\n",
      "16/16 [==============================] - 77s 5s/step - loss: 0.0601 - accuracy: 0.9841 - val_loss: 0.1748 - val_accuracy: 0.8976\n",
      "Epoch 34/50\n",
      "16/16 [==============================] - ETA: 0s - loss: 0.0678 - accuracy: 0.9802\n",
      "Epoch 34: val_accuracy did not improve from 0.92913\n",
      "16/16 [==============================] - 77s 5s/step - loss: 0.0678 - accuracy: 0.9802 - val_loss: 0.1732 - val_accuracy: 0.8976\n",
      "Epoch 35/50\n",
      "16/16 [==============================] - ETA: 0s - loss: 0.0565 - accuracy: 0.9901\n",
      "Epoch 35: val_accuracy did not improve from 0.92913\n",
      "16/16 [==============================] - 77s 5s/step - loss: 0.0565 - accuracy: 0.9901 - val_loss: 0.1703 - val_accuracy: 0.8976\n",
      "Epoch 36/50\n",
      "16/16 [==============================] - ETA: 0s - loss: 0.0523 - accuracy: 0.9940\n",
      "Epoch 36: val_accuracy did not improve from 0.92913\n",
      "16/16 [==============================] - 77s 5s/step - loss: 0.0523 - accuracy: 0.9940 - val_loss: 0.1779 - val_accuracy: 0.9055\n",
      "Epoch 37/50\n",
      "16/16 [==============================] - ETA: 0s - loss: 0.0658 - accuracy: 0.9821\n",
      "Epoch 37: val_accuracy did not improve from 0.92913\n",
      "16/16 [==============================] - 77s 5s/step - loss: 0.0658 - accuracy: 0.9821 - val_loss: 0.1735 - val_accuracy: 0.8976\n",
      "Epoch 38/50\n",
      "16/16 [==============================] - ETA: 0s - loss: 0.0538 - accuracy: 0.9861\n",
      "Epoch 38: val_accuracy did not improve from 0.92913\n",
      "16/16 [==============================] - 77s 5s/step - loss: 0.0538 - accuracy: 0.9861 - val_loss: 0.1763 - val_accuracy: 0.8976\n",
      "Epoch 39/50\n",
      "16/16 [==============================] - ETA: 0s - loss: 0.0579 - accuracy: 0.9821\n",
      "Epoch 39: val_accuracy did not improve from 0.92913\n",
      "16/16 [==============================] - 77s 5s/step - loss: 0.0579 - accuracy: 0.9821 - val_loss: 0.1753 - val_accuracy: 0.8976\n",
      "Epoch 40/50\n",
      "16/16 [==============================] - ETA: 0s - loss: 0.0440 - accuracy: 0.9980\n",
      "Epoch 40: val_accuracy did not improve from 0.92913\n",
      "16/16 [==============================] - 76s 5s/step - loss: 0.0440 - accuracy: 0.9980 - val_loss: 0.1751 - val_accuracy: 0.8976\n",
      "Epoch 41/50\n",
      "16/16 [==============================] - ETA: 0s - loss: 0.0524 - accuracy: 0.9921\n",
      "Epoch 41: val_accuracy did not improve from 0.92913\n",
      "16/16 [==============================] - 77s 5s/step - loss: 0.0524 - accuracy: 0.9921 - val_loss: 0.1787 - val_accuracy: 0.8976\n",
      "Epoch 42/50\n",
      "16/16 [==============================] - ETA: 0s - loss: 0.0593 - accuracy: 0.9901\n",
      "Epoch 42: val_accuracy did not improve from 0.92913\n",
      "16/16 [==============================] - 77s 5s/step - loss: 0.0593 - accuracy: 0.9901 - val_loss: 0.1754 - val_accuracy: 0.8976\n",
      "Epoch 43/50\n",
      "16/16 [==============================] - ETA: 0s - loss: 0.0511 - accuracy: 0.9960\n",
      "Epoch 43: val_accuracy did not improve from 0.92913\n",
      "16/16 [==============================] - 77s 5s/step - loss: 0.0511 - accuracy: 0.9960 - val_loss: 0.1829 - val_accuracy: 0.8976\n",
      "Epoch 44/50\n",
      "16/16 [==============================] - ETA: 0s - loss: 0.0520 - accuracy: 0.9881\n",
      "Epoch 44: val_accuracy did not improve from 0.92913\n",
      "16/16 [==============================] - 77s 5s/step - loss: 0.0520 - accuracy: 0.9881 - val_loss: 0.1789 - val_accuracy: 0.8976\n",
      "Epoch 45/50\n",
      "16/16 [==============================] - ETA: 0s - loss: 0.0464 - accuracy: 0.9901\n",
      "Epoch 45: val_accuracy did not improve from 0.92913\n",
      "16/16 [==============================] - 77s 5s/step - loss: 0.0464 - accuracy: 0.9901 - val_loss: 0.1775 - val_accuracy: 0.8976\n",
      "Epoch 46/50\n",
      "16/16 [==============================] - ETA: 0s - loss: 0.0412 - accuracy: 0.9960\n",
      "Epoch 46: val_accuracy did not improve from 0.92913\n",
      "16/16 [==============================] - 77s 5s/step - loss: 0.0412 - accuracy: 0.9960 - val_loss: 0.1766 - val_accuracy: 0.9055\n",
      "Epoch 47/50\n",
      "16/16 [==============================] - ETA: 0s - loss: 0.0511 - accuracy: 0.9901\n",
      "Epoch 47: val_accuracy did not improve from 0.92913\n",
      "16/16 [==============================] - 77s 5s/step - loss: 0.0511 - accuracy: 0.9901 - val_loss: 0.1777 - val_accuracy: 0.9134\n",
      "Epoch 48/50\n",
      "16/16 [==============================] - ETA: 0s - loss: 0.0450 - accuracy: 0.9921\n",
      "Epoch 48: val_accuracy did not improve from 0.92913\n",
      "16/16 [==============================] - 76s 5s/step - loss: 0.0450 - accuracy: 0.9921 - val_loss: 0.1777 - val_accuracy: 0.9134\n",
      "Epoch 49/50\n",
      "16/16 [==============================] - ETA: 0s - loss: 0.0392 - accuracy: 0.9980\n",
      "Epoch 49: val_accuracy did not improve from 0.92913\n",
      "16/16 [==============================] - 77s 5s/step - loss: 0.0392 - accuracy: 0.9980 - val_loss: 0.1888 - val_accuracy: 0.8976\n",
      "Epoch 50/50\n",
      "16/16 [==============================] - ETA: 0s - loss: 0.0348 - accuracy: 1.0000\n",
      "Epoch 50: val_accuracy did not improve from 0.92913\n",
      "16/16 [==============================] - 77s 5s/step - loss: 0.0348 - accuracy: 1.0000 - val_loss: 0.1840 - val_accuracy: 0.8976\n"
     ]
    },
    {
     "data": {
      "image/png": "[encoded data removed]",
      "text/plain": [
       "<Figure size 1600x800 with 2 Axes>"
      ]
     },
     "metadata": {},
     "output_type": "display_data"
    },
    {
     "name": "stdout",
     "output_type": "stream",
     "text": [
      "max_val_acc 0.9291338324546814\n"
     ]
    }
   ],
   "source": [
    "import matplotlib.pyplot as plt\n",
    "\n",
    "\n",
    "STEPS_BY_EPOCHS=len(train_data_generator);\n",
    "\n",
    "# COMPILE NEW MODEL\n",
    "model.compile(loss='categorical_crossentropy',\n",
    "              optimizer='adam',\n",
    "              metrics=['accuracy'])\n",
    "\n",
    "# CREATE CALLBACKS\n",
    "best_model_file=os.path.join(output_dir,'model.h5');\n",
    "checkpoint = tf.keras.callbacks.ModelCheckpoint(filepath=best_model_file, \n",
    "                                                save_weights_only=True,\n",
    "                                                monitor='val_accuracy', \n",
    "                                                save_best_only=True, \n",
    "                                                verbose=1);\n",
    "\n",
    "\n",
    "\n",
    "# There can be other callbacks, but just showing one because it involves the model name\n",
    "# This saves the best model\n",
    "# FIT THE MODEL\n",
    "history = model.fit(train_data_generator,\n",
    "                    steps_per_epoch=STEPS_BY_EPOCHS,\n",
    "                    epochs=EPOCAS,\n",
    "                    validation_data=valid_data_generator,\n",
    "                    callbacks=[checkpoint],\n",
    "                    verbose=1\n",
    "                   );\n",
    "\n",
    "\n",
    "mpp.save_model_history(history,os.path.join(output_dir,\"historical.csv\"));\n"
   ]
  },
  {
   "cell_type": "markdown",
   "id": "083be078-c76e-423a-a538-6e5c6c9cda8c",
   "metadata": {},
   "source": [
    "# Evaluate best model"
   ]
  },
  {
   "cell_type": "code",
   "execution_count": 12,
   "id": "1d4f6536-46f0-4c89-b98f-7cb5a4075cf1",
   "metadata": {},
   "outputs": [
    {
     "name": "stdout",
     "output_type": "stream",
     "text": [
      "9/9 [==============================] - 33s 4s/step - loss: 0.1031 - accuracy: 0.9744\n",
      "{'loss': 0.10306092351675034, 'accuracy': 0.9743589758872986} \n",
      "\n",
      "\n"
     ]
    }
   ],
   "source": [
    "# LOAD BEST MODEL to evaluate the performance of the model\n",
    "model.load_weights(best_model_file);\n",
    "\n",
    "results = model.evaluate(test_data_generator)\n",
    "results = dict(zip(model.metrics_names,results))\n",
    "print(results,\"\\n\\n\");\n",
    "\n",
    "with open(os.path.join(output_dir,\"results_testing.txt\"), 'w') as f: \n",
    "    for key, value in results.items(): \n",
    "        f.write('%s=%s;\\n' % (key, value));\n",
    "\n",
    "tf.keras.backend.clear_session()\n"
   ]
  },
  {
   "cell_type": "code",
   "execution_count": 13,
   "id": "84facfa9-b65a-4fc8-85c7-025fd02f1674",
   "metadata": {},
   "outputs": [],
   "source": [
    "\n",
    "POSTNAME=str(int(results['accuracy']*100000));\n",
    "\n",
    "tmp_name='modelo_'+model_type+'_acc'+POSTNAME+'.h5';\n",
    "\n",
    "os.rename(best_model_file,os.path.join(output_dir,tmp_name));"
   ]
  },
  {
   "cell_type": "code",
   "execution_count": null,
   "id": "4f70e376-46ee-40aa-bd19-1ea149d0a3aa",
   "metadata": {},
   "outputs": [],
   "source": []
  },
  {
   "cell_type": "code",
   "execution_count": null,
   "id": "d8fecf1b-cef9-463b-b76d-ff614de2be37",
   "metadata": {},
   "outputs": [],
   "source": []
  }
 ],
 "metadata": {
  "kernelspec": {
   "display_name": "Python 3",
   "language": "python",
   "name": "python3"
  },
  "language_info": {
   "codemirror_mode": {
    "name": "ipython",
    "version": 3
   },
   "file_extension": ".py",
   "mimetype": "text/x-python",
   "name": "python",
   "nbconvert_exporter": "python",
   "pygments_lexer": "ipython3",
   "version": "3.8.10"
  }
 },
 "nbformat": 4,
 "nbformat_minor": 5
}
